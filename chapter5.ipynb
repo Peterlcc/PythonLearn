{
 "cells": [
  {
   "cell_type": "code",
   "execution_count": 3,
   "metadata": {},
   "outputs": [
    {
     "name": "stdout",
     "output_type": "stream",
     "text": [
      "I_wish_to_register_a_complaint***\n"
     ]
    }
   ],
   "source": [
    "#print自定义分隔符 & 自定义结束字符串\n",
    "print(\"I\", \"wish\", \"to\", \"register\", \"a\", \"complaint\", sep=\"_\",end='')\n",
    "print(\"***\")"
   ]
  },
  {
   "cell_type": "code",
   "execution_count": 5,
   "metadata": {},
   "outputs": [
    {
     "name": "stdout",
     "output_type": "stream",
     "text": [
      "1 2 3\n",
      "1 2 [3, 4]\n"
     ]
    }
   ],
   "source": [
    "#序列解包\n",
    "x, y, z = 1,2,3\n",
    "print(x,y,z)\n",
    "#使用*收集多余值\n",
    "a, b, *rest = [1, 2, 3, 4]\n",
    "print(a,b,rest)"
   ]
  },
  {
   "cell_type": "code",
   "execution_count": 6,
   "metadata": {},
   "outputs": [
    {
     "name": "stdout",
     "output_type": "stream",
     "text": [
      "True\n",
      "True\n",
      "True\n",
      "False\n"
     ]
    }
   ],
   "source": [
    "#用作布尔表达式（如用作if语句中的条件）时，下面的值都将被解释器视为假：\n",
    "#False None 0 \"\" () [] {}\n",
    "#==用来检查两个对象是否相等，而is用来检查两个对象是否相同（是同一个对象）。\n",
    "x = y = [1, 2, 3]\n",
    "z = [1, 2, 3]\n",
    "print(x == y)\n",
    "print(x==z)\n",
    "print(x is y)\n",
    "print(x is z)\n",
    "\n",
    "#!!!不要将is用于数和字符串等不可变的基本值,这样做不可预测"
   ]
  },
  {
   "cell_type": "code",
   "execution_count": 7,
   "metadata": {},
   "outputs": [
    {
     "ename": "AssertionError",
     "evalue": "",
     "output_type": "error",
     "traceback": [
      "\u001b[1;31m---------------------------------------------------------------------------\u001b[0m",
      "\u001b[1;31mAssertionError\u001b[0m                            Traceback (most recent call last)",
      "\u001b[1;32m<ipython-input-7-bce8e8236555>\u001b[0m in \u001b[0;36m<module>\u001b[1;34m()\u001b[0m\n\u001b[0;32m      3\u001b[0m \u001b[1;32massert\u001b[0m \u001b[1;36m0\u001b[0m \u001b[1;33m<\u001b[0m \u001b[0mage\u001b[0m \u001b[1;33m<\u001b[0m \u001b[1;36m100\u001b[0m\u001b[1;33m\u001b[0m\u001b[0m\n\u001b[0;32m      4\u001b[0m \u001b[0mage\u001b[0m \u001b[1;33m=\u001b[0m \u001b[1;33m-\u001b[0m\u001b[1;36m1\u001b[0m\u001b[1;33m\u001b[0m\u001b[0m\n\u001b[1;32m----> 5\u001b[1;33m \u001b[1;32massert\u001b[0m \u001b[1;36m0\u001b[0m \u001b[1;33m<\u001b[0m \u001b[0mage\u001b[0m \u001b[1;33m<\u001b[0m \u001b[1;36m100\u001b[0m\u001b[1;33m\u001b[0m\u001b[0m\n\u001b[0m",
      "\u001b[1;31mAssertionError\u001b[0m: "
     ]
    }
   ],
   "source": [
    "#断言\n",
    "age = 10\n",
    "assert 0 < age < 100\n",
    "age = -1\n",
    "assert 0 < age < 100"
   ]
  },
  {
   "cell_type": "code",
   "execution_count": 12,
   "metadata": {},
   "outputs": [
    {
     "name": "stdout",
     "output_type": "stream",
     "text": [
      "1,2,3,4,5,6,7,8,9,10,11,12,13,14,15,16,17,18,19,20,21,22,23,24,25,26,27,28,29,30,31,32,33,34,35,36,37,38,39,40,41,42,43,44,45,46,47,48,49,50,51,52,53,54,55,56,57,58,59,60,61,62,63,64,65,66,67,68,69,70,71,72,73,74,75,76,77,78,79,80,81,82,83,84,85,86,87,88,89,90,91,92,93,94,95,96,97,98,99,100,\n",
      "x corresponds to 1\n",
      "y corresponds to 2\n",
      "z corresponds to 3\n",
      "--------------------\n",
      "x corresponds to 1\n",
      "y corresponds to 2\n",
      "z corresponds to 3\n"
     ]
    }
   ],
   "source": [
    "#鉴于迭代（也就是遍历）特定范围内的数是一种常见的任务,可以使用for加range\n",
    "for number in range(1,101):\n",
    "    print(number,end=',')\n",
    "print()\n",
    "\n",
    "#for 遍历map\n",
    "d = {'x': 1, 'y': 2, 'z': 3}\n",
    "#1\n",
    "for key in d:\n",
    "    print(key, 'corresponds to', d[key])\n",
    "\n",
    "print(\"--\"*10)\n",
    "#2\n",
    "for key, value in d.items():\n",
    "    print(key, 'corresponds to', value)"
   ]
  },
  {
   "cell_type": "code",
   "execution_count": 16,
   "metadata": {},
   "outputs": [
    {
     "name": "stdout",
     "output_type": "stream",
     "text": [
      "<zip object at 0x000001948DC8D248>\n",
      "[('anne', 12), ('beth', 45), ('george', 32), ('damon', 102)]\n",
      "anne 12\n",
      "beth 45\n",
      "george 32\n",
      "damon 102\n",
      "[(0, 0), (1, 1), (2, 2), (3, 3), (4, 4)]\n"
     ]
    }
   ],
   "source": [
    "#并行迭代zip\n",
    "names = ['anne', 'beth', 'george', 'damon']\n",
    "ages = [12, 45, 32, 102]\n",
    "print(zip(names,ages))\n",
    "paralell=list(zip(names,ages))\n",
    "print(paralell)\n",
    "for name,age in paralell:\n",
    "    print(name,age)\n",
    "#当序列的长度不同时，函数zip将在最短的序列用完后停止“缝合”。\n",
    "print(list(zip(range(5), range(100000000))))"
   ]
  },
  {
   "cell_type": "code",
   "execution_count": 20,
   "metadata": {},
   "outputs": [
    {
     "name": "stdout",
     "output_type": "stream",
     "text": [
      "Didn't find it!\n"
     ]
    }
   ],
   "source": [
    "#迭代时获取索引enumerate\n",
    "\n",
    "\n",
    "#循环中添加一条else子句，它仅在没有调用break时才执行\n",
    "root=9\n",
    "from math import sqrt\n",
    "for n in range(99, 81, -1):\n",
    "    root = sqrt(n)\n",
    "    if root == int(root):\n",
    "        print(n)\n",
    "        break\n",
    "else:\n",
    "    print(\"Didn't find it!\")\n"
   ]
  },
  {
   "cell_type": "code",
   "execution_count": 21,
   "metadata": {},
   "outputs": [
    {
     "name": "stdout",
     "output_type": "stream",
     "text": [
      "[0, 1, 4, 9, 16, 25, 36, 49, 64, 81]\n"
     ]
    }
   ],
   "source": [
    "#推导\n",
    "print([x * x for x in range(10)])"
   ]
  },
  {
   "cell_type": "code",
   "execution_count": 24,
   "metadata": {},
   "outputs": [
    {
     "name": "stdout",
     "output_type": "stream",
     "text": [
      "hello world\n",
      "None\n",
      "2.0\n",
      "1\n"
     ]
    }
   ],
   "source": [
    "#exec\n",
    "exec(\"print('hello world')\")\n",
    "\n",
    "#with scope\n",
    "from math import sqrt\n",
    "scope = {}\n",
    "exec('sqrt = 1', scope)#结果存储在scope中,不使用scope会污染命名空间，导致exec外的sqrt不能使用\n",
    "print(sqrt(4))\n",
    "print(scope['sqrt'])"
   ]
  },
  {
   "cell_type": "code",
   "execution_count": 26,
   "metadata": {},
   "outputs": [
    {
     "name": "stdout",
     "output_type": "stream",
     "text": [
      "7\n"
     ]
    }
   ],
   "source": [
    "#eval是一个类似于exec的内置函数。exec执行一系列Python语句，而eval计算用字符串表示的Python表达式的值，并返回结果（exec什么都不返回，因为它本身是条语句\n",
    "calcRes=eval(\"1+2*3\")\n",
    "print(calcRes)"
   ]
  },
  {
   "cell_type": "code",
   "execution_count": 28,
   "metadata": {},
   "outputs": [
    {
     "name": "stdout",
     "output_type": "stream",
     "text": [
      "6\n",
      "4\n"
     ]
    }
   ],
   "source": [
    "#scope作用域\n",
    "scope = {}\n",
    "scope['x'] = 2\n",
    "scope['y'] = 3\n",
    "print(eval('x * y', scope))\n",
    "scope = {}\n",
    "exec('x = 2', scope)\n",
    "print(eval('x * x', scope))"
   ]
  }
 ],
 "metadata": {
  "kernelspec": {
   "display_name": "Python 3",
   "language": "python",
   "name": "python3"
  },
  "language_info": {
   "codemirror_mode": {
    "name": "ipython",
    "version": 3
   },
   "file_extension": ".py",
   "mimetype": "text/x-python",
   "name": "python",
   "nbconvert_exporter": "python",
   "pygments_lexer": "ipython3",
   "version": "3.7.0"
  }
 },
 "nbformat": 4,
 "nbformat_minor": 2
}
