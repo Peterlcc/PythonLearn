{
 "cells": [
  {
   "cell_type": "code",
   "execution_count": 5,
   "metadata": {},
   "outputs": [
    {
     "name": "stdout",
     "output_type": "stream",
     "text": [
      "hello, world.hot enough for ya?\n",
      "to be or not to be\n",
      "π is approximately 3.14.\n",
      "Euler's constant is roughly 2.718281828459045.\n"
     ]
    }
   ],
   "source": [
    "#字符串不可变\n",
    "\n",
    "#format 字符串设置格式--类似c语言操作   %s  %.nf   %d  ...\n",
    "des='hello, %s.%s enough for ya?'\n",
    "values=('world','hot')\n",
    "res=des%values\n",
    "print(res)\n",
    "\n",
    "#format形式在python中被优化--类似C#中的操作\n",
    "betterStr=\"{3} {0} {2} {1} {3} {0}\".format(\"be\", \"not\", \"or\", \"to\")\n",
    "print(betterStr)\n",
    "\n",
    "#甚至可以按名称指定\n",
    "from math import pi\n",
    "nameStr=\"{name} is approximately {value:.2f}.\".format(value=pi, name=\"π\")\n",
    "print(nameStr)\n",
    "\n",
    "#当变量与替换字段同名时，可以简化操作\n",
    "from math import e\n",
    "sameNameStr=f\"Euler's constant is roughly {e}.\"#等价于 \"Euler's constant is roughly {e}.\".format(e=e)\n",
    "print(sameNameStr)"
   ]
  },
  {
   "cell_type": "code",
   "execution_count": 2,
   "metadata": {},
   "outputs": [
    {
     "name": "stdout",
     "output_type": "stream",
     "text": [
      "hello,Mars! dusty enough for ya?\n"
     ]
    }
   ],
   "source": [
    "#Template  字符串设置格式--类似Linux shell操作$\n",
    "from string import Template\n",
    "tmpl=Template(\"hello,$who! $what enough for ya?\")\n",
    "tres=tmpl.substitute(who='Mars',what='dusty')#who what为关键字参数\n",
    "print(tres)"
   ]
  }
 ],
 "metadata": {
  "kernelspec": {
   "display_name": "Python 3",
   "language": "python",
   "name": "python3"
  },
  "language_info": {
   "codemirror_mode": {
    "name": "ipython",
    "version": 3
   },
   "file_extension": ".py",
   "mimetype": "text/x-python",
   "name": "python",
   "nbconvert_exporter": "python",
   "pygments_lexer": "ipython3",
   "version": "3.7.0"
  }
 },
 "nbformat": 4,
 "nbformat_minor": 2
}
