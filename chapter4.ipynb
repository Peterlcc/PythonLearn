{
 "cells": [
  {
   "cell_type": "code",
   "execution_count": 2,
   "metadata": {},
   "outputs": [
    {
     "name": "stdout",
     "output_type": "stream",
     "text": [
      "Cecil's phone number is 3258.\n"
     ]
    }
   ],
   "source": [
    "#使用字典格式化字符串   format_map\n",
    "phoneBook={'Beth': '9102', 'Alice': '2341', 'Cecil': '3258'}\n",
    "formatWithMap=\"Cecil's phone number is {Cecil}.\".format_map(phoneBook)\n",
    "print(formatWithMap)"
   ]
  },
  {
   "cell_type": "code",
   "execution_count": 3,
   "metadata": {},
   "outputs": [],
   "source": [
    "#copy复制map，但是当map的值存在引用时，值的复制是引用的复制\n",
    "#deepcopy复制会将引用的值域也进行复制，例如map中的某值是list的引用时\n",
    "#romkeys创建一个新字典，其中包含指定的键，且每个键对应的值都是None。"
   ]
  },
  {
   "cell_type": "code",
   "execution_count": 6,
   "metadata": {},
   "outputs": [
    {
     "name": "stdout",
     "output_type": "stream",
     "text": [
      "dict_items([('title', 'Python Web Site'), ('url', 'http://www.python.org'), ('spam', 0)])\n",
      "[('title', 'Python Web Site'), ('url', 'http://www.python.org'), ('spam', 0)]\n"
     ]
    }
   ],
   "source": [
    "#使用[]运算符取值，没有键时引发异常，get返回None\n",
    "#setdefault有点像get，因为它也获取与指定键相关联的值，但除此之外，setdefault还在字典不包含指定的键时，在字典中添加指定的键值对\n",
    "\n",
    "\n",
    "#items返回一个包含所有字典项的列表，其中每个元素都为(key, value)的形式。字典项在列表中的排列顺序不确定。\n",
    "d = {'title': 'Python Web Site', 'url': 'http://www.python.org', 'spam': 0}\n",
    "print(d.items())\n",
    "#转list\n",
    "ld=list(d.items())\n",
    "print(ld)"
   ]
  },
  {
   "cell_type": "code",
   "execution_count": 7,
   "metadata": {},
   "outputs": [
    {
     "name": "stdout",
     "output_type": "stream",
     "text": [
      "dict_keys(['title', 'url', 'spam'])\n",
      "dict_values(['Python Web Site', 'http://www.python.org', 0])\n"
     ]
    }
   ],
   "source": [
    "#keys&values\n",
    "ks=d.keys()\n",
    "vs=d.values()\n",
    "print(ks)\n",
    "print(vs)"
   ]
  }
 ],
 "metadata": {
  "kernelspec": {
   "display_name": "Python 3",
   "language": "python",
   "name": "python3"
  },
  "language_info": {
   "codemirror_mode": {
    "name": "ipython",
    "version": 3
   },
   "file_extension": ".py",
   "mimetype": "text/x-python",
   "name": "python",
   "nbconvert_exporter": "python",
   "pygments_lexer": "ipython3",
   "version": "3.7.0"
  }
 },
 "nbformat": 4,
 "nbformat_minor": 2
}
