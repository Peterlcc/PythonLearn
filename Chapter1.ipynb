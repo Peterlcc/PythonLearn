{
 "cells": [
  {
   "cell_type": "code",
   "execution_count": null,
   "metadata": {},
   "outputs": [],
   "source": [
    "msg=input(\"msg=\")#获取控制台输入，结果为字符串！\n",
    "print(msg)\n",
    "print(type(msg),int(msg)+100)"
   ]
  },
  {
   "cell_type": "code",
   "execution_count": 20,
   "metadata": {},
   "outputs": [
    {
     "name": "stdout",
     "output_type": "stream",
     "text": [
      "2**3= 8\n",
      "pow(2,3)= 8\n"
     ]
    }
   ],
   "source": [
    "#平方的计算\n",
    "resOfSquare=2**3\n",
    "print(\"2**3=\",resOfSquare)\n",
    "print(\"pow(2,3)=\",pow(2,3))"
   ]
  },
  {
   "cell_type": "code",
   "execution_count": 13,
   "metadata": {},
   "outputs": [
    {
     "data": {
      "text/plain": [
       "1j"
      ]
     },
     "execution_count": 13,
     "metadata": {},
     "output_type": "execute_result"
    }
   ],
   "source": [
    "import cmath#标准的复数库\n",
    "cmath.sqrt(-1)"
   ]
  },
  {
   "cell_type": "code",
   "execution_count": 17,
   "metadata": {},
   "outputs": [
    {
     "name": "stdout",
     "output_type": "stream",
     "text": [
      "This is a very long string. It continues here.\n",
      "And it's not over yet. \"Hello, world!\"\n",
      "Still here.\n",
      "c:\n",
      "iubi\n",
      "c:\\niubi\n",
      "c:\\niubi\n",
      "c:\\niubi \\\n"
     ]
    }
   ],
   "source": [
    "#长字符串\n",
    "print('''This is a very long string. It continues here.\n",
    "And it's not over yet. \"Hello, world!\"\n",
    "Still here.''')\n",
    "\n",
    "#原始字符串，字符串前加r表示字符串的原始情况，例如windows路径\n",
    "print(\"c:\\niubi\")\n",
    "print(\"c:\\\\niubi\")\n",
    "print(r\"c:\\niubi\")\n",
    "\n",
    "#原始字符串结尾不可以是反斜杠\n",
    "#print(r\"c:\\niubi\\\") ----错误\n",
    "print(r\"c:\\niubi\" \"\\\\\")"
   ]
  },
  {
   "cell_type": "code",
   "execution_count": null,
   "metadata": {},
   "outputs": [],
   "source": []
  }
 ],
 "metadata": {
  "celltoolbar": "Edit Metadata",
  "kernelspec": {
   "display_name": "Python 3",
   "language": "python",
   "name": "python3"
  },
  "language_info": {
   "codemirror_mode": {
    "name": "ipython",
    "version": 3
   },
   "file_extension": ".py",
   "mimetype": "text/x-python",
   "name": "python",
   "nbconvert_exporter": "python",
   "pygments_lexer": "ipython3",
   "version": "3.7.0"
  }
 },
 "nbformat": 4,
 "nbformat_minor": 2
}
